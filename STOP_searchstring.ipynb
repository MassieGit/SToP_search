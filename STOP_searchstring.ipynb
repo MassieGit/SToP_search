{
 "cells": [
  {
   "cell_type": "markdown",
   "id": "0f0648d2-009e-434f-8049-e6c93a562180",
   "metadata": {},
   "source": [
    "# SToP Search String"
   ]
  },
  {
   "cell_type": "code",
   "execution_count": 31,
   "id": "111bc596-4ab1-4415-82ee-b446d52c1829",
   "metadata": {},
   "outputs": [],
   "source": [
    "import csv\n",
    "\n",
    "#Loading Bar\n",
    "from ipywidgets import IntProgress\n",
    "from IPython.display import display\n",
    "import time\n",
    "\n",
    "#String Search library\n",
    "import re"
   ]
  },
  {
   "cell_type": "code",
   "execution_count": 6,
   "id": "a213c3ba-764f-485f-80db-d7ed8cee0ed8",
   "metadata": {},
   "outputs": [],
   "source": [
    "#CSV Extraction\n",
    "\n",
    "data = []\n",
    "with open(r'C:\\Users\\EPan\\Documents\\STOP\\SToP Data\\SToP Medications report_Community1_2017-Present_deidentified.csv') as csv_file:\n",
    "    csv_reader = csv.reader(csv_file, delimiter=',')\n",
    "    for row in csv_reader:\n",
    "        data.append(row)\n",
    "\n",
    "# 0 - ID\n",
    "# 4 - Product Name\n",
    "# 13 - Start Date\n",
    "        \n",
    "Med_Array = []\n",
    "for a in range (0, len(data)):\n",
    "                \n",
    "    ID = data[a][0]\n",
    "    Product_Name = data[a][4]\n",
    "    Start_Date = data[a][13]\n",
    "    \n",
    "    Med_Array.append([ID, Product_Name, Start_Date])\n",
    "    \n",
    "data = []\n",
    "with open(r'C:\\Users\\EPan\\Documents\\STOP\\SToP Data\\SToP Progressnote report_Community1_2017-Present_deidentified.csv') as csv_file:\n",
    "    csv_reader = csv.reader(csv_file, delimiter=',')\n",
    "    for row in csv_reader:\n",
    "        data.append(row)\n",
    "\n",
    "# 0 - ID\n",
    "# 1 - Date\n",
    "# 3 - Presenting Complaint\n",
    "# 4 - Primary Presenting Complaint\n",
    "# 5 - Other Complaints\n",
    "# 6 - Diagnosis\n",
    "        \n",
    "Prog_Array = []\n",
    "for a in range (0, len(data)):\n",
    "                \n",
    "    ID = data[a][0]\n",
    "    Date = data[a][1]\n",
    "    Presenting_complaint = data[a][3]\n",
    "    Primary_presenting_complaint = data[a][4]\n",
    "    Other_complaints = data[a][5]\n",
    "    Diagnosis = data[a][6]\n",
    "    \n",
    "    Prog_Array.append([ID, Date, Presenting_complaint, Primary_presenting_complaint, Other_complaints, Diagnosis])"
   ]
  },
  {
   "cell_type": "markdown",
   "id": "6f832da4-1bfc-4b33-a6e5-aa45a231ced5",
   "metadata": {},
   "source": [
    "Med_Array contains some duplicates. Remove the duplicates for much less data combined data"
   ]
  },
  {
   "attachments": {
    "f259703c-047c-4443-aacc-603636f91ea0.png": {
     "image/png": "[encoded data removed]"
    }
   },
   "cell_type": "markdown",
   "id": "4b538e33-1302-47b0-8f8a-71c42b1eb12d",
   "metadata": {},
   "source": [
    "![image.png](attachment:f259703c-047c-4443-aacc-603636f91ea0.png)"
   ]
  },
  {
   "cell_type": "code",
   "execution_count": 8,
   "id": "82f33ddd-220f-451f-a865-d0ef19c6e721",
   "metadata": {},
   "outputs": [],
   "source": [
    "#Removing Duplicates\n",
    "new_Med_Array = []\n",
    "\n",
    "seen = set()\n",
    "for item in Med_Array:\n",
    "    t = tuple(item)\n",
    "    if t not in seen:\n",
    "        new_Med_Array.append(item)\n",
    "        seen.add(t)\n",
    "        \n",
    "new_Prog_Array = []\n",
    "\n",
    "seen = set()\n",
    "for item in Prog_Array:\n",
    "    t = tuple(item)\n",
    "    if t not in seen:\n",
    "        new_Prog_Array.append(item)\n",
    "        seen.add(t)"
   ]
  },
  {
   "cell_type": "code",
   "execution_count": 9,
   "id": "d7ec6ffb-11fb-41b6-bff1-8bb4dc954e5c",
   "metadata": {},
   "outputs": [],
   "source": [
    "#Finding all the unique Identifiers from Med_Array (Combination of ID + Date)\n",
    "UID = []\n",
    "for a in range (0, len(new_Med_Array)):\n",
    "    ID = new_Med_Array[a][0]\n",
    "    Start_Date = new_Med_Array[a][2]\n",
    "    \n",
    "    temp = [ID, Start_Date]\n",
    "    if temp not in UID:\n",
    "        UID.append(temp)\n",
    "        \n",
    "for a in range (0, len(new_Prog_Array)):\n",
    "    ID = new_Prog_Array[a][0]\n",
    "    Date = new_Prog_Array[a][1]\n",
    "    \n",
    "    temp = [ID, Date]\n",
    "    if temp not in UID:\n",
    "        UID.append(temp)"
   ]
  },
  {
   "cell_type": "code",
   "execution_count": 10,
   "id": "c6fa3d92-0f75-47bf-a932-3f80e5390568",
   "metadata": {},
   "outputs": [
    {
     "data": {
      "application/vnd.jupyter.widget-view+json": {
       "model_id": "50767da5ce73488abae3b334e4cd6596",
       "version_major": 2,
       "version_minor": 0
      },
      "text/plain": [
       "IntProgress(value=1, max=702, min=1)"
      ]
     },
     "metadata": {},
     "output_type": "display_data"
    }
   ],
   "source": [
    "# Merging the two data sets on ID + Date/Start_Date\n",
    "\n",
    "f = IntProgress(min=1, max=len(UID)/100) # instantiate the bar\n",
    "display(f) # display the bar\n",
    "\n",
    "#Takes about 30 minutes...\n",
    "Data_Array = []\n",
    "for a in range(0, len(UID)):\n",
    "    temp_row = []\n",
    "    \n",
    "    #Progress Bar\n",
    "    if a % 100 == 0:\n",
    "        f.value += 1 # signal to increment the progress bar\n",
    "        \n",
    "    ID = UID[a][0]\n",
    "    Date = UID[a][1]\n",
    "        \n",
    "    #Loop Through new_Med_Array\n",
    "    temp = []\n",
    "    for b in range (0, len(new_Med_Array)):\n",
    "        if ID == new_Med_Array[b][0] and Date == new_Med_Array[b][2]:\n",
    "            temp.append(new_Med_Array[b])\n",
    "    temp_row.append(temp)\n",
    "    \n",
    "    #Loop Through new_Prog_Array\n",
    "    temp = []\n",
    "    for b in range (0, len(new_Prog_Array)):\n",
    "        if ID == new_Prog_Array[b][0] and Date == new_Prog_Array[b][1]:\n",
    "            temp.append(new_Prog_Array[b])\n",
    "    temp_row.append(temp)\n",
    "    \n",
    "    #Final Merged Dataset\n",
    "    Data_Array.append(temp_row)"
   ]
  },
  {
   "cell_type": "code",
   "execution_count": 11,
   "id": "a4c9f063-92f8-4971-9be2-8598cc36381d",
   "metadata": {},
   "outputs": [
    {
     "name": "stdout",
     "output_type": "stream",
     "text": [
      "2271 52169\n"
     ]
    }
   ],
   "source": [
    "#Count missing linkage parts\n",
    "\n",
    "count_missing_prog = 0\n",
    "count_missing_med = 0\n",
    "for a in range (0, len(Data_Array)):\n",
    "    if len(Data_Array[a][1]) == 0:\n",
    "        count_missing_prog = count_missing_prog + 1\n",
    "    if len(Data_Array[a][0]) == 0:\n",
    "        count_missing_med = count_missing_med + 1\n",
    "        \n",
    "print(count_missing_prog, count_missing_med)"
   ]
  },
  {
   "cell_type": "code",
   "execution_count": 132,
   "id": "8fd05817-bc52-4aae-856e-b5c3b011c178",
   "metadata": {},
   "outputs": [
    {
     "data": {
      "text/plain": [
       "[[['18805', 'Aspirin', '5/6/2020'], ['18805', 'Ondansetron', '5/6/2020']],\n",
       " [['18805', '5/6/2020', 'Headache', '', '', '']]]"
      ]
     },
     "execution_count": 132,
     "metadata": {},
     "output_type": "execute_result"
    }
   ],
   "source": [
    "Data_Array[1]"
   ]
  },
  {
   "cell_type": "code",
   "execution_count": null,
   "id": "cf27dfe4-15d9-4069-b145-e1c7bae7b11b",
   "metadata": {},
   "outputs": [],
   "source": [
    "# Search for the search terms"
   ]
  },
  {
   "attachments": {
    "892b3a64-9b79-47ad-9e37-08db923950f3.png": {
     "image/png": "[encoded data removed]"
    }
   },
   "cell_type": "markdown",
   "id": "15cb1ddc-4c5a-45cd-b97f-645467c38e49",
   "metadata": {},
   "source": [
    "![image.png](attachment:892b3a64-9b79-47ad-9e37-08db923950f3.png)"
   ]
  },
  {
   "cell_type": "markdown",
   "id": "0e71dd8a-2b52-433a-a66b-c0d333afdcd9",
   "metadata": {},
   "source": [
    "## Search 1 [\"dressing\", \"laceration\", \"cut\", \"wound\", \"bite\"]"
   ]
  },
  {
   "cell_type": "code",
   "execution_count": 152,
   "id": "0fc30526-204a-4282-b4e2-d41dec584aec",
   "metadata": {},
   "outputs": [],
   "source": [
    "import datetime\n",
    "from datetime import datetime"
   ]
  },
  {
   "cell_type": "code",
   "execution_count": 260,
   "id": "94de57a9-a6d5-46c6-85d6-798d22f91d9a",
   "metadata": {},
   "outputs": [
    {
     "name": "stdout",
     "output_type": "stream",
     "text": [
      "-----------------------\n",
      "dressing\n",
      "-----------------------\n",
      "laceration\n",
      "-----------------------\n",
      "cut\n",
      "-----------------------\n",
      "wound\n",
      "-----------------------\n",
      "bite\n"
     ]
    }
   ],
   "source": [
    "search = [\"dressing\", \"laceration\", \"cut\", \"wound\", \"bite\"]\n",
    "#Cut catches \"acute\", \"subcutaneous\", \"electrocution\"\n",
    "\n",
    "results_array = []\n",
    "for searchstring in search: \n",
    "    print(\"-----------------------\")\n",
    "    print(searchstring)\n",
    "    temp = []\n",
    "    for a in range (0, len(Data_Array)):\n",
    "        if len(Data_Array[a]) != 0:\n",
    "            for b in range (0, len(Data_Array[a][1])):\n",
    "                temp_string = Data_Array[a][1][b][2] + \" \" + Data_Array[a][1][b][3] +  \" \" +  Data_Array[a][1][b][4] + \" \" +  Data_Array[a][1][b][5]\n",
    "                temp_string = temp_string.lower()\n",
    "                temp_id = Data_Array[a][1][b][0]\n",
    "\n",
    "                #Convert to datetime.date() so it can be used to compare for consecutive windows\n",
    "                temp_date = Data_Array[a][1][b][1]\n",
    "                if temp_date != 'Day of Progress Note Date':\n",
    "                    temp_date = datetime.strptime(temp_date, \"%m/%d/%Y\").date()\n",
    "\n",
    "                if re.search(searchstring, temp_string):\n",
    "                    if searchstring == \"cut\":\n",
    "                        if not re.search(\"acute\", temp_string) and not re.search(\"subcutaneous\", temp_string) and not re.search(\"electrocution\", temp_string):\n",
    "                            #print(a, temp_id, temp_date, b, temp_string)\n",
    "                            temp.append([a, temp_id, temp_date, b, temp_string])\n",
    "                    else:\n",
    "                        #print(a, temp_date, b, temp_string)\n",
    "                        temp.append([a, temp_id, temp_date, b, temp_string])\n",
    "    results_array.append(temp)\n",
    "    \n",
    "#Sort by patient ID so that we can remove consecutive clinic visits (within 3 days)\n",
    "for a in range (0, len(results_array)):\n",
    "    results_array[a] = sorted(results_array[a], key=lambda l: (int(l[1]), l[2]))\n",
    "    \n",
    "#Iterate through the results_array to check to see if anyone is within the same time window\n",
    "for a in range (0, len(results_array)):\n",
    "    delete_array = []\n",
    "    for b in range (1, len(results_array[a])):\n",
    "        #If the ID is the same\n",
    "        if results_array[a][b][1] == results_array[a][b-1][1]:\n",
    "            #Check date\n",
    "            date1 = results_array[a][b-1][2]\n",
    "            date2 = results_array[a][b][2]\n",
    "\n",
    "            #If it is less than 4 days\n",
    "            if (date2 - date1).days < 4:\n",
    "                #print(b, date1, date2)\n",
    "                delete_array.append(b)\n",
    "\n",
    "    #print(delete_array)\n",
    "    #Reverse Order of the delete array\n",
    "    delete_array.sort(reverse=True)\n",
    "\n",
    "    #Delete those rows in the array\n",
    "    for b in range (0, len(delete_array)):\n",
    "        del results_array[a][delete_array[b]]"
   ]
  },
  {
   "cell_type": "code",
   "execution_count": 261,
   "id": "b11d857f-562f-4802-90c3-63943f05fe6f",
   "metadata": {},
   "outputs": [
    {
     "name": "stdout",
     "output_type": "stream",
     "text": [
      "0 238 dressing\n",
      "1 196 laceration\n",
      "2 28 cut\n",
      "3 1160 wound\n",
      "4 238 bite\n"
     ]
    }
   ],
   "source": [
    "for a in range (0, len(results_array)):\n",
    "    print(a, len(results_array[a]), search[a])"
   ]
  },
  {
   "cell_type": "markdown",
   "id": "c69b00ff-8aa0-4e9d-82a6-11a9c6415fc3",
   "metadata": {},
   "source": [
    "## Search 2 [\"boil\", \"abscess\"]"
   ]
  },
  {
   "cell_type": "code",
   "execution_count": 297,
   "id": "3c1ca271-975b-4c3d-a41f-8518c991cec8",
   "metadata": {},
   "outputs": [
    {
     "name": "stdout",
     "output_type": "stream",
     "text": [
      "-----------------------\n",
      "boil\n",
      "-----------------------\n",
      "abscess\n"
     ]
    }
   ],
   "source": [
    "search = [\"boil\", \"abscess\"]\n",
    "\n",
    "results_array = []\n",
    "for searchstring in search: \n",
    "    print(\"-----------------------\")\n",
    "    print(searchstring)\n",
    "    temp = []\n",
    "    for a in range (0, len(Data_Array)):\n",
    "        if len(Data_Array[a]) != 0:\n",
    "            for b in range (0, len(Data_Array[a][1])):\n",
    "                temp_string = Data_Array[a][1][b][2] + \" \" + Data_Array[a][1][b][3] +  \" \" +  Data_Array[a][1][b][4] + \" \" +  Data_Array[a][1][b][5]\n",
    "                temp_string = temp_string.lower()\n",
    "                temp_id = Data_Array[a][1][b][0]\n",
    "\n",
    "                #Convert to datetime.date() so it can be used to compare for consecutive windows\n",
    "                temp_date = Data_Array[a][1][b][1]\n",
    "                if temp_date != 'Day of Progress Note Date':\n",
    "                    temp_date = datetime.strptime(temp_date, \"%m/%d/%Y\").date()\n",
    "\n",
    "                if re.search(searchstring, temp_string):\n",
    "                    #print(a, temp_id, temp_date, b, temp_string)\n",
    "                    temp.append([a, temp_id, temp_date, b, temp_string])\n",
    "    results_array.append(temp)\n",
    "    \n",
    "#Sort by patient ID so that we can remove consecutive clinic visits (within 3 days)\n",
    "for a in range (0, len(results_array)):\n",
    "    results_array[a] = sorted(results_array[a], key=lambda l: (int(l[1]), l[2]))\n",
    "    \n",
    "#Iterate through the results_array to check to see if anyone is within the same time window\n",
    "for a in range (0, len(results_array)):\n",
    "    delete_array = []\n",
    "    for b in range (1, len(results_array[a])):\n",
    "        #If the ID is the same\n",
    "        if results_array[a][b][1] == results_array[a][b-1][1]:\n",
    "            #Check date\n",
    "            date1 = results_array[a][b-1][2]\n",
    "            date2 = results_array[a][b][2]\n",
    "\n",
    "            #If it is less than 4 days\n",
    "            if (date2 - date1).days < 4:\n",
    "                #print(b, date1, date2)\n",
    "                delete_array.append(b)\n",
    "\n",
    "    #print(delete_array)\n",
    "    #Reverse Order of the delete array\n",
    "    delete_array.sort(reverse=True)\n",
    "\n",
    "    #Delete those rows in the array\n",
    "    for b in range (0, len(delete_array)):\n",
    "        del results_array[a][delete_array[b]]"
   ]
  },
  {
   "cell_type": "code",
   "execution_count": 298,
   "id": "1a8bfa72-9f6d-4b26-b498-22bfe37c5edb",
   "metadata": {},
   "outputs": [
    {
     "name": "stdout",
     "output_type": "stream",
     "text": [
      "0 348 boil\n",
      "1 205 abscess\n"
     ]
    }
   ],
   "source": [
    "for a in range (0, len(results_array)):\n",
    "    print(a, len(results_array[a]), search[a])"
   ]
  },
  {
   "cell_type": "code",
   "execution_count": 299,
   "id": "336d6b7a-19ad-40ba-8d2d-e37f8f4a60b8",
   "metadata": {},
   "outputs": [],
   "source": [
    "#Connect the progress note results with the associated medications.\n",
    "\n",
    "med = [[\"axoxicillian\", \"clavulanic\"], [\"benzathine\", \"benzylpenicillin\", \"tetrahydrate\"], [\"cefalexin\"], [\"cefazolin\"], [\"flucloxacillin\"], [\"trimethoprim\", \"sulfamethoxazole\"]]\n",
    "\n",
    "#Create a Medication Results array with the same dimensions as the search terms\n",
    "med_array = []\n",
    "for a in range (0, len(results_array)):\n",
    "    med_results = [0 for a in range (0, len(med))]\n",
    "    for b in range (0, len(results_array[a])):\n",
    "        #Find the Data row that the result comes from\n",
    "        data_row = results_array[a][b][0]\n",
    "        temp_datarow = Data_Array[data_row][0] #The medication reports\n",
    "        \n",
    "        #Check to see if there are any medication reports linked to this progress note\n",
    "        if len(temp_datarow) > 0:\n",
    "            for c in range (0, len(temp_datarow)):\n",
    "                med_string = temp_datarow[c][1].lower()\n",
    "                \n",
    "                #Iterate through the search terms\n",
    "                for d in range (0, len(med)):\n",
    "                    \n",
    "                    flag = False #Flag to determine if subsets of the medical terms is present\n",
    "                    for e in range (0, len(med[d])):\n",
    "                        medSearchString = med_4[d][e]\n",
    "                        if re.search(medSearchString, med_string):\n",
    "                            #print(medSearchString, \"--------\", med_string)\n",
    "                            flag = True\n",
    "                    if flag:\n",
    "                        med_results[d] = med_results[d] + 1\n",
    "    med_array.append(med_results)"
   ]
  },
  {
   "cell_type": "code",
   "execution_count": 300,
   "id": "4a2bd780-7b15-4642-b34d-8b8031f32671",
   "metadata": {},
   "outputs": [
    {
     "data": {
      "text/plain": [
       "[[1, 32, 3, 4, 8, 69], [17, 8, 2, 15, 13, 32]]"
      ]
     },
     "execution_count": 300,
     "metadata": {},
     "output_type": "execute_result"
    }
   ],
   "source": [
    "med_array"
   ]
  },
  {
   "cell_type": "markdown",
   "id": "45074a20-747d-462c-8e05-9bb4ea599ca2",
   "metadata": {},
   "source": [
    "## Search 3 [\"skin\", \"rash\"]"
   ]
  },
  {
   "cell_type": "code",
   "execution_count": 302,
   "id": "90c653b8-210f-4517-9e13-342dbd893848",
   "metadata": {},
   "outputs": [
    {
     "name": "stdout",
     "output_type": "stream",
     "text": [
      "-----------------------\n",
      "skin\n",
      "-----------------------\n",
      "rash\n"
     ]
    }
   ],
   "source": [
    "search = [\"skin\", \"rash\"]\n",
    "\n",
    "results_array = []\n",
    "for searchstring in search: \n",
    "    print(\"-----------------------\")\n",
    "    print(searchstring)\n",
    "    temp = []\n",
    "    for a in range (0, len(Data_Array)):\n",
    "        if len(Data_Array[a]) != 0:\n",
    "            for b in range (0, len(Data_Array[a][1])):\n",
    "                temp_string = Data_Array[a][1][b][2] + \" \" + Data_Array[a][1][b][3] +  \" \" +  Data_Array[a][1][b][4] + \" \" +  Data_Array[a][1][b][5]\n",
    "                temp_string = temp_string.lower()\n",
    "                \n",
    "                temp_id = Data_Array[a][1][b][0]\n",
    "\n",
    "                #Convert to datetime.date() so it can be used to compare for consecutive windows\n",
    "                temp_date = Data_Array[a][1][b][1]\n",
    "                if temp_date != 'Day of Progress Note Date':\n",
    "                    temp_date = datetime.strptime(temp_date, \"%m/%d/%Y\").date()\n",
    "\n",
    "                if re.search(searchstring, temp_string):\n",
    "                    temp.append([a, temp_id, temp_date, b, temp_string])\n",
    "    results_array.append(temp)\n",
    "    \n",
    "#Sort by patient ID so that we can remove consecutive clinic visits (within 3 days)\n",
    "for a in range (0, len(results_array)):\n",
    "    results_array[a] = sorted(results_array[a], key=lambda l: (int(l[1]), l[2]))\n",
    "    \n",
    "#Iterate through the results_array to check to see if anyone is within the same time window\n",
    "for a in range (0, len(results_array)):\n",
    "    delete_array = []\n",
    "    for b in range (1, len(results_array[a])):\n",
    "        #If the ID is the same\n",
    "        if results_array[a][b][1] == results_array[a][b-1][1]:\n",
    "            #Check date\n",
    "            date1 = results_array[a][b-1][2]\n",
    "            date2 = results_array[a][b][2]\n",
    "\n",
    "            #If it is less than 4 days\n",
    "            if (date2 - date1).days < 4:\n",
    "                #print(b, date1, date2)\n",
    "                delete_array.append(b)\n",
    "\n",
    "    #print(delete_array)\n",
    "    #Reverse Order of the delete array\n",
    "    delete_array.sort(reverse=True)\n",
    "\n",
    "    #Delete those rows in the array\n",
    "    for b in range (0, len(delete_array)):\n",
    "        del results_array[a][delete_array[b]]"
   ]
  },
  {
   "cell_type": "code",
   "execution_count": 303,
   "id": "03a681bb-b377-4f7e-9dbf-12f228d0634b",
   "metadata": {},
   "outputs": [
    {
     "name": "stdout",
     "output_type": "stream",
     "text": [
      "0 525 skin\n",
      "1 147 rash\n"
     ]
    }
   ],
   "source": [
    "for a in range (0, len(results_array)):\n",
    "    print(a, len(results_array[a]), search[a])"
   ]
  },
  {
   "cell_type": "code",
   "execution_count": 307,
   "id": "ba26813c-79a6-43fd-8f1c-fd46ea6214d5",
   "metadata": {},
   "outputs": [],
   "source": [
    "for a in range (0, len(results_array)):\n",
    "    #print(search[a])\n",
    "    #print(\"----------------------------\")\n",
    "    for b in range (0, len(results_array[a])):\n",
    "        #print(results_array[a][b][4])\n",
    "        True"
   ]
  },
  {
   "cell_type": "markdown",
   "id": "1fe794b3-4c46-4fc7-98ae-b010311d0dc3",
   "metadata": {},
   "source": [
    "## Search 4 [\"sores\", \"impetigo\", \"pyoderma\", \"school sores\", \"skin sores\", \"purulent\", \"crusted\"]"
   ]
  },
  {
   "cell_type": "code",
   "execution_count": 126,
   "id": "55b46e48-dbe0-43da-8e7d-8490823378f4",
   "metadata": {},
   "outputs": [
    {
     "name": "stdout",
     "output_type": "stream",
     "text": [
      "-----------------------\n",
      "sores\n",
      "-----------------------\n",
      "impetigo\n",
      "-----------------------\n",
      "pyoderma\n",
      "-----------------------\n",
      "school sores\n",
      "-----------------------\n",
      "skin sores\n",
      "-----------------------\n",
      "purulent\n",
      "-----------------------\n",
      "crusted\n"
     ]
    }
   ],
   "source": [
    "search_4 = [\"sores\", \"impetigo\", \"pyoderma\", \"school sores\", \"skin sores\", \"purulent\", \"crusted\"]\n",
    "med_4 = [[\"axoxicillian\", \"clavulanic\"], [\"benzathine\", \"benzylpenicillin\", \"tetrahydrate\"], [\"cefalexin\"], [\"cefazolin\"], [\"flucloxacillin\"], [\"trimethoprim\", \"sulfamethoxazole\"]]\n",
    "\n",
    "results_array_4 = []\n",
    "med_array_4 = []\n",
    "for searchstring in search_4: \n",
    "    print(\"-----------------------\")\n",
    "    print(searchstring) \n",
    "    temp = []\n",
    "    med_results = [0 for a in range (0, len(med_4))]\n",
    "    for a in range (0, len(Data_Array)):\n",
    "        if len(Data_Array[a]) != 0:\n",
    "            for b in range (0, len(Data_Array[a][1])):\n",
    "                temp_string = Data_Array[a][1][b][2] + Data_Array[a][1][b][3] + Data_Array[a][1][b][4] + Data_Array[a][1][b][5]\n",
    "                temp_string = temp_string.lower()\n",
    "                temp_date = Data_Array[a][1][b][1]\n",
    "                if re.search(searchstring, temp_string):\n",
    "                    #print(a, temp_date, b, temp_string)\n",
    "                    temp.append([a, temp_date, b, temp_string])\n",
    "                    #Search through the medications\n",
    "                    if len(Data_Array[a][0]) > 0:\n",
    "                        for c in range (0, len(Data_Array[a][0])):\n",
    "                            med_string = Data_Array[a][0][c][1].lower()\n",
    "                            for d in range (0, len(med_4)):\n",
    "                                flag = False\n",
    "                                for e in range (0, len(med_4[d])):\n",
    "                                    medSearchstring = med_4[d][e]\n",
    "                                    if re.search(medSearchstring, med_string):\n",
    "                                        #print(medSearchstring, \"--------\", med_string)\n",
    "                                        flag = True\n",
    "                                if flag:\n",
    "                                    med_results[d] = med_results[d] + 1\n",
    "                            #print(Data_Array[a][0][c])\n",
    "    results_array_4.append(temp)\n",
    "    med_array_4.append(med_results)"
   ]
  },
  {
   "cell_type": "code",
   "execution_count": 127,
   "id": "6a529188-a606-4d62-a035-83ce2d5f8d56",
   "metadata": {},
   "outputs": [
    {
     "data": {
      "text/plain": [
       "[[0, 63, 0, 2, 0, 11],\n",
       " [0, 49, 2, 3, 1, 25],\n",
       " [0, 0, 0, 0, 0, 0],\n",
       " [0, 0, 0, 0, 0, 0],\n",
       " [0, 32, 0, 0, 0, 5],\n",
       " [1, 0, 0, 0, 0, 0],\n",
       " [0, 1, 0, 0, 0, 0]]"
      ]
     },
     "execution_count": 127,
     "metadata": {},
     "output_type": "execute_result"
    }
   ],
   "source": [
    "med_array_4"
   ]
  },
  {
   "cell_type": "code",
   "execution_count": 128,
   "id": "5baa4f45-f977-44b7-a291-e243bb097495",
   "metadata": {},
   "outputs": [
    {
     "name": "stdout",
     "output_type": "stream",
     "text": [
      "0 138 sores\n",
      "1 195 impetigo\n",
      "2 1 pyoderma\n",
      "3 1 school sores\n",
      "4 66 skin sores\n",
      "5 5 purulent\n",
      "6 8 crusted\n"
     ]
    }
   ],
   "source": [
    "for a in range (0, len(results_array_4)):\n",
    "    print(a, len(results_array_4[a]), search_4[a])"
   ]
  },
  {
   "cell_type": "code",
   "execution_count": 129,
   "id": "72c1efbd-0df8-4f80-a07f-0e719a6d40d5",
   "metadata": {},
   "outputs": [
    {
     "data": {
      "text/plain": [
       "[[17864,\n",
       "  '10/17/2020',\n",
       "  1,\n",
       "  'sob - shortness of breathotitis media with effusion - purulent'],\n",
       " [53848,\n",
       "  '4/15/2021',\n",
       "  0,\n",
       "  'otitis media with effusion - purulentotitis media with effusion - purulent'],\n",
       " [67719, '4/20/2020', 0, 'otitis media with effusion - purulent'],\n",
       " [67720, '4/21/2020', 0, 'otitis media with effusion - purulent'],\n",
       " [69700, '7/11/2022', 0, 'otitis media with effusion - purulent']]"
      ]
     },
     "execution_count": 129,
     "metadata": {},
     "output_type": "execute_result"
    }
   ],
   "source": [
    "results_array_4[5]"
   ]
  },
  {
   "cell_type": "code",
   "execution_count": 133,
   "id": "cd4f77f9-3956-42a5-b5c0-cfd3e54e60b8",
   "metadata": {},
   "outputs": [
    {
     "data": {
      "text/plain": [
       "[[],\n",
       " [['1205738',\n",
       "   '4/20/2020',\n",
       "   'Otitis media with effusion - purulent',\n",
       "   '',\n",
       "   '',\n",
       "   ''],\n",
       "  ['1205738', '4/20/2020', 'Cough', '', '', ''],\n",
       "  ['1205738', '4/20/2020', 'Cough', '', '', 'Diabetes']]]"
      ]
     },
     "execution_count": 133,
     "metadata": {},
     "output_type": "execute_result"
    }
   ],
   "source": [
    "Data_Array[67719]"
   ]
  },
  {
   "cell_type": "markdown",
   "id": "8a70d8fd-74b8-4a54-bf36-1a161027408c",
   "metadata": {},
   "source": [
    "## Search 5 [\"fungal\", \"tinea\", \"ring worm\", \"scaly skin\"]"
   ]
  },
  {
   "cell_type": "code",
   "execution_count": 234,
   "id": "562ff18d-2f38-404f-89d0-c987966d8854",
   "metadata": {},
   "outputs": [
    {
     "name": "stdout",
     "output_type": "stream",
     "text": [
      "-----------------------\n",
      "skin\n",
      "-----------------------\n",
      "rash\n"
     ]
    }
   ],
   "source": [
    "search_5 = [\"fungal\", \"tinea\", \"ring worm\", \"scaly skin\"]\n",
    "search_5 = [\"skin\", \"rash\"]\n",
    "\n",
    "results_array_5 = []\n",
    "for searchstring in search_5: \n",
    "    print(\"-----------------------\")\n",
    "    print(searchstring)\n",
    "    temp = []\n",
    "    for a in range (0, len(Data_Array)):\n",
    "        if len(Data_Array[a]) != 0:\n",
    "            for b in range (0, len(Data_Array[a][1])):\n",
    "                temp_string = Data_Array[a][1][b][2] + \" \" + Data_Array[a][1][b][3] + \" \" + Data_Array[a][1][b][4] + \" \" + Data_Array[a][1][b][5]\n",
    "                temp_string = temp_string.lower()\n",
    "                temp_date = Data_Array[a][1][b][1]\n",
    "                if re.search(searchstring, temp_string):\n",
    "                    #print(a, temp_date, b, temp_string)\n",
    "                    temp.append([a, temp_date, b, temp_string])\n",
    "    results_array_5.append(temp)"
   ]
  },
  {
   "cell_type": "code",
   "execution_count": 235,
   "id": "056363d4-7f31-42fb-9a34-ce2e33ed95b0",
   "metadata": {},
   "outputs": [
    {
     "name": "stdout",
     "output_type": "stream",
     "text": [
      "0 561 skin\n",
      "1 160 rash\n"
     ]
    }
   ],
   "source": [
    "for a in range (0, len(results_array_5)):\n",
    "    print(a, len(results_array_5[a]), search_5[a])"
   ]
  },
  {
   "cell_type": "markdown",
   "id": "278b6be0-3e45-45e3-91b4-b7cae800ffbc",
   "metadata": {},
   "source": [
    "## Search 6 [\"lice\", \"nit\", \"head lice\", \"scalp infestation\"]"
   ]
  },
  {
   "cell_type": "code",
   "execution_count": 71,
   "id": "6bb9846e-546e-482a-b2c1-ace77c7ec148",
   "metadata": {},
   "outputs": [
    {
     "name": "stdout",
     "output_type": "stream",
     "text": [
      "-----------------------\n",
      "lice\n",
      "-----------------------\n",
      "nit\n",
      "-----------------------\n",
      "head lice\n",
      "-----------------------\n",
      "scalp infestation\n"
     ]
    }
   ],
   "source": [
    "search_6 = [\"lice\", \"nit\", \"head lice\", \"scalp infestation\"]\n",
    "#lice - police, license\n",
    "#nit - community, cognitive\n",
    "\n",
    "results_array_6 = []\n",
    "for searchstring in search_6: \n",
    "    print(\"-----------------------\")\n",
    "    print(searchstring)\n",
    "    temp = []\n",
    "    for a in range (0, len(Data_Array)):\n",
    "        if len(Data_Array[a]) != 0:\n",
    "            for b in range (0, len(Data_Array[a][1])):\n",
    "                temp_string = Data_Array[a][1][b][2] + Data_Array[a][1][b][3] + Data_Array[a][1][b][4] + Data_Array[a][1][b][5]\n",
    "                temp_string = temp_string.lower()\n",
    "                temp_date = Data_Array[a][1][b][1]\n",
    "                if re.search(searchstring, temp_string):\n",
    "                    #print(a, temp_date, b, temp_string)\n",
    "                    temp.append([a, temp_date, b, temp_string])\n",
    "    results_array_6.append(temp)"
   ]
  },
  {
   "cell_type": "code",
   "execution_count": 70,
   "id": "d560fb8e-2c46-4665-8724-cf31e9ef6562",
   "metadata": {},
   "outputs": [
    {
     "name": "stdout",
     "output_type": "stream",
     "text": [
      "0 113 lice\n",
      "1 4 nits\n",
      "2 45 head lice\n",
      "3 0 scalp infestation\n"
     ]
    }
   ],
   "source": [
    "for a in range (0, len(results_array_6)):\n",
    "    print(a, len(results_array_6[a]), search_6[a])"
   ]
  },
  {
   "cell_type": "markdown",
   "id": "6ffa33e9-613b-4e94-adc9-a0fcf397a98b",
   "metadata": {},
   "source": [
    "## Search 7 [\"dematitis\", \"eczema\", \"atopic dermatitis\", \"infected eczema\"]"
   ]
  },
  {
   "cell_type": "code",
   "execution_count": 74,
   "id": "68c2c2fe-917c-45ee-a796-899532bdf61e",
   "metadata": {},
   "outputs": [
    {
     "name": "stdout",
     "output_type": "stream",
     "text": [
      "-----------------------\n",
      "dermatitis\n",
      "-----------------------\n",
      "eczema\n",
      "-----------------------\n",
      "atopic dermatitis\n",
      "-----------------------\n",
      "infected eczema\n"
     ]
    }
   ],
   "source": [
    "search_7 = [\"dermatitis\", \"eczema\", \"atopic dermatitis\", \"infected eczema\"]\n",
    "\n",
    "results_array_7 = []\n",
    "for searchstring in search_7: \n",
    "    print(\"-----------------------\")\n",
    "    print(searchstring)\n",
    "    temp = []\n",
    "    for a in range (0, len(Data_Array)):\n",
    "        if len(Data_Array[a]) != 0:\n",
    "            for b in range (0, len(Data_Array[a][1])):\n",
    "                temp_string = Data_Array[a][1][b][2] + Data_Array[a][1][b][3] + Data_Array[a][1][b][4] + Data_Array[a][1][b][5]\n",
    "                temp_string = temp_string.lower()\n",
    "                temp_date = Data_Array[a][1][b][1]\n",
    "                if re.search(searchstring, temp_string):\n",
    "                    #print(a, temp_date, b, temp_string)\n",
    "                    temp.append([a, temp_date, b, temp_string])\n",
    "    results_array_7.append(temp)"
   ]
  },
  {
   "cell_type": "code",
   "execution_count": 75,
   "id": "415f3b0b-cf0e-4c44-b5b3-c22f2013db86",
   "metadata": {},
   "outputs": [
    {
     "name": "stdout",
     "output_type": "stream",
     "text": [
      "0 21 dermatitis\n",
      "1 7 eczema\n",
      "2 0 atopic dermatitis\n",
      "3 1 infected eczema\n"
     ]
    }
   ],
   "source": [
    "for a in range (0, len(results_array_7)):\n",
    "    print(a, len(results_array_7[a]), search_7[a])"
   ]
  },
  {
   "cell_type": "markdown",
   "id": "71038354-2896-45b6-9a6b-b2b79886b17c",
   "metadata": {},
   "source": [
    "## Search 8 [\"wart\", \"molluscum\"]"
   ]
  },
  {
   "cell_type": "code",
   "execution_count": 76,
   "id": "a3770954-ca13-43be-ad4a-d7e82086a4cb",
   "metadata": {},
   "outputs": [
    {
     "name": "stdout",
     "output_type": "stream",
     "text": [
      "-----------------------\n",
      "wart\n",
      "-----------------------\n",
      "mulluscum\n"
     ]
    }
   ],
   "source": [
    "search_8 = [\"wart\", \"mulluscum\"]\n",
    "\n",
    "results_array_8 = []\n",
    "for searchstring in search_8: \n",
    "    print(\"-----------------------\")\n",
    "    print(searchstring)\n",
    "    temp = []\n",
    "    for a in range (0, len(Data_Array)):\n",
    "        if len(Data_Array[a]) != 0:\n",
    "            for b in range (0, len(Data_Array[a][1])):\n",
    "                temp_string = Data_Array[a][1][b][2] + Data_Array[a][1][b][3] + Data_Array[a][1][b][4] + Data_Array[a][1][b][5]\n",
    "                temp_string = temp_string.lower()\n",
    "                temp_date = Data_Array[a][1][b][1]\n",
    "                if re.search(searchstring, temp_string):\n",
    "                    #print(a, temp_date, b, temp_string)\n",
    "                    temp.append([a, temp_date, b, temp_string])\n",
    "    results_array_8.append(temp)"
   ]
  },
  {
   "cell_type": "code",
   "execution_count": 77,
   "id": "aa32f6fc-6a94-43fd-a21e-952994632d44",
   "metadata": {},
   "outputs": [
    {
     "name": "stdout",
     "output_type": "stream",
     "text": [
      "0 21 wart\n",
      "1 0 mulluscum\n"
     ]
    }
   ],
   "source": [
    "for a in range (0, len(results_array_8)):\n",
    "    print(a, len(results_array_8[a]), search_8[a])"
   ]
  },
  {
   "cell_type": "markdown",
   "id": "dc31831d-b8a7-423d-9eaa-4a34a9024707",
   "metadata": {},
   "source": [
    "## Search 9 [\"scabies\", \"scabetic\", \"secondarily infected scabies\", \"impetiginous scabies\"]"
   ]
  },
  {
   "cell_type": "code",
   "execution_count": 80,
   "id": "d45d6762-99b7-43e9-b77f-6a12221aa01e",
   "metadata": {},
   "outputs": [
    {
     "name": "stdout",
     "output_type": "stream",
     "text": [
      "-----------------------\n",
      "scabies\n",
      "-----------------------\n",
      "scabetic\n",
      "-----------------------\n",
      "secondarily infected scabies\n",
      "-----------------------\n",
      "impetiginous scabies\n"
     ]
    }
   ],
   "source": [
    "search_9 = [\"scabies\", \"scabetic\", \"secondarily infected scabies\", \"impetiginous scabies\"]\n",
    "\n",
    "results_array_9 = []\n",
    "for searchstring in search_9: \n",
    "    print(\"-----------------------\")\n",
    "    print(searchstring)\n",
    "    temp = []\n",
    "    for a in range (0, len(Data_Array)):\n",
    "        if len(Data_Array[a]) != 0:\n",
    "            for b in range (0, len(Data_Array[a][1])):\n",
    "                temp_string = Data_Array[a][1][b][2] + Data_Array[a][1][b][3] + Data_Array[a][1][b][4] + Data_Array[a][1][b][5]\n",
    "                temp_string = temp_string.lower()\n",
    "                temp_date = Data_Array[a][1][b][1]\n",
    "                if re.search(searchstring, temp_string):\n",
    "                    #print(a, temp_date, b, temp_string)\n",
    "                    temp.append([a, temp_date, b, temp_string])\n",
    "    results_array_9.append(temp)"
   ]
  },
  {
   "cell_type": "code",
   "execution_count": 81,
   "id": "d4947e4f-3d27-4672-a2ec-1adfe947a96a",
   "metadata": {},
   "outputs": [
    {
     "name": "stdout",
     "output_type": "stream",
     "text": [
      "0 168 scabies\n",
      "1 0 scabetic\n",
      "2 0 secondarily infected scabies\n",
      "3 0 impetiginous scabies\n"
     ]
    }
   ],
   "source": [
    "for a in range (0, len(results_array_9)):\n",
    "    print(a, len(results_array_9[a]), search_9[a])"
   ]
  },
  {
   "cell_type": "code",
   "execution_count": null,
   "id": "1c74a458-9312-4db6-aec4-80fc4b50af4f",
   "metadata": {},
   "outputs": [],
   "source": []
  }
 ],
 "metadata": {
  "kernelspec": {
   "display_name": "Python 3 (ipykernel)",
   "language": "python",
   "name": "python3"
  },
  "language_info": {
   "codemirror_mode": {
    "name": "ipython",
    "version": 3
   },
   "file_extension": ".py",
   "mimetype": "text/x-python",
   "name": "python",
   "nbconvert_exporter": "python",
   "pygments_lexer": "ipython3",
   "version": "3.10.10"
  }
 },
 "nbformat": 4,
 "nbformat_minor": 5
}
